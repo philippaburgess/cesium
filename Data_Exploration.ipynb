{
 "cells": [
  {
   "cell_type": "markdown",
   "metadata": {},
   "source": [
    "Data Exploration to look for correlations between pollution, health outcomes and impact on minority communities. "
   ]
  },
  {
   "cell_type": "code",
   "execution_count": 6,
   "metadata": {},
   "outputs": [],
   "source": [
    "import pandas as pd\n",
    "import matplotlib.pyplot as plt\n",
    "import seaborn as sns\n",
    "\n",
    "sns.set(style=\"whitegrid\")\n",
    "\n",
    "df = pd.read_csv(r'C:\\Users\\Philippa Burgess\\Downloads\\POLB_SQL\\POLB_Merged.csv')"
   ]
  },
  {
   "cell_type": "code",
   "execution_count": 7,
   "metadata": {},
   "outputs": [],
   "source": [
    "df = df[(df['City'] == 'Long Beach') & (df['CNTY_NAME'] == 'Los Angeles')]"
   ]
  },
  {
   "cell_type": "code",
   "execution_count": 9,
   "metadata": {},
   "outputs": [],
   "source": [
    "if 'D2_PM25' in df.columns and 'Asthma' in df.columns:\n",
    "    sns.scatterplot(data=df, x='D2_PM25', y='Asthma')\n",
    "    plt.title('Scatter Plot of D2_PM25 vs Asthma')\n",
    "    plt.show()\n",
    "else:\n",
    "    print(\"Columns 'D2_PM25' or 'Asthma' not found in DataFrame.\")"
   ]
  },
  {
   "cell_type": "code",
   "execution_count": 10,
   "metadata": {},
   "outputs": [
    {
     "name": "stdout",
     "output_type": "stream",
     "text": [
      "Correlation coefficient between D2_PM25 and Asthma: 0.9047508536699783\n"
     ]
    }
   ],
   "source": [
    "correlation_coefficient = df['D2_PM25'].corr(df['Asthma'])\n",
    "print(\"Correlation coefficient between D2_PM25 and Asthma:\", correlation_coefficient)"
   ]
  },
  {
   "cell_type": "code",
   "execution_count": 36,
   "metadata": {},
   "outputs": [
    {
     "name": "stdout",
     "output_type": "stream",
     "text": [
      "The correlation coefficient between Pollution Burden and Non White Only Percentage is: 0.6984962771649079\n"
     ]
    }
   ],
   "source": [
    "# Calculate the correlation coefficient for 'Pollution Burden' and 'Non White Only Percentage'\n",
    "correlation_coefficient_pb_nwop = df['D5_CANCER'].corr(df['LIFEEXPPCT'])\n",
    "\n",
    "# Print the correlation coefficient\n",
    "print(f\"The correlation coefficient between Pollution Burden and Non White Only Percentage is: {correlation_coefficient_pb_nwop}\")\n"
   ]
  },
  {
   "cell_type": "code",
   "execution_count": 37,
   "metadata": {},
   "outputs": [
    {
     "name": "stdout",
     "output_type": "stream",
     "text": [
      "The correlation coefficient between Education and LIFEEXPPCT is: 0.8714774006205734\n"
     ]
    }
   ],
   "source": [
    "# Calculate the correlation coefficient for 'Non White Only Percentage' and 'LIFEEXPPCT'\n",
    "correlation_coefficient_edu_lifeexp = df['Non White Only Percentage'].corr(df['Education'])\n",
    "\n",
    "# Print the correlation coefficient\n",
    "print(f\"The correlation coefficient between Education and LIFEEXPPCT is: {correlation_coefficient_edu_lifeexp}\")\n"
   ]
  },
  {
   "cell_type": "code",
   "execution_count": 38,
   "metadata": {},
   "outputs": [
    {
     "name": "stdout",
     "output_type": "stream",
     "text": [
      "The correlation coefficient between D5_PM25 and LIFEEXPPCT is: 0.7369795584781317\n"
     ]
    }
   ],
   "source": [
    "# Calculate the correlation coefficient for 'PM 2.5' and 'LIFEEXPPCT'\n",
    "correlation_coefficient_edu_lifeexp = df['D5_PM25'].corr(df['LIFEEXPPCT'])\n",
    "\n",
    "# Print the correlation coefficient\n",
    "print(f\"The correlation coefficient between D5_PM25 and LIFEEXPPCT is: {correlation_coefficient_edu_lifeexp}\")\n"
   ]
  },
  {
   "cell_type": "code",
   "execution_count": 39,
   "metadata": {},
   "outputs": [
    {
     "name": "stdout",
     "output_type": "stream",
     "text": [
      "The correlation coefficient between Non White Only Percentage and Asthma Pctl' is: 0.9399814489310205\n"
     ]
    }
   ],
   "source": [
    "# Calculate the correlation coefficient for 'Non White Only Percentage' and 'Asthma Pctl'\n",
    "correlation_coefficient_edu_lifeexp = df['Non White Only Percentage'].corr(df['Asthma Pctl'])\n",
    "\n",
    "# Print the correlation coefficient\n",
    "print(f\"The correlation coefficient between Non White Only Percentage and Asthma Pctl' is: {correlation_coefficient_edu_lifeexp}\")\n"
   ]
  },
  {
   "cell_type": "code",
   "execution_count": 41,
   "metadata": {},
   "outputs": [
    {
     "name": "stdout",
     "output_type": "stream",
     "text": [
      "The correlation coefficient between Education and LIFEEXPPCT is: 0.6970551185783992\n"
     ]
    }
   ],
   "source": [
    "# Calculate the correlation coefficient for 'Education' and 'LIFEEXPPCT'\n",
    "correlation_coefficient_edu_lifeexp = df['LOWINCOME'].corr(df['LIFEEXPPCT'])\n",
    "\n",
    "# Print the correlation coefficient\n",
    "print(f\"The correlation coefficient between Education and LIFEEXPPCT is: {correlation_coefficient_edu_lifeexp}\")\n"
   ]
  },
  {
   "cell_type": "code",
   "execution_count": 42,
   "metadata": {},
   "outputs": [
    {
     "name": "stdout",
     "output_type": "stream",
     "text": [
      "The correlation coefficient between Education and LIFEEXPPCT is: 0.790311003661657\n"
     ]
    }
   ],
   "source": [
    "# Calculate the correlation coefficient for 'Education' and 'LIFEEXPPCT'\n",
    "correlation_coefficient_edu_lifeexp = df['LOWINCOME'].corr(df['Education'])\n",
    "\n",
    "# Print the correlation coefficient\n",
    "print(f\"The correlation coefficient between Education and LIFEEXPPCT is: {correlation_coefficient_edu_lifeexp}\")"
   ]
  },
  {
   "cell_type": "code",
   "execution_count": 27,
   "metadata": {},
   "outputs": [
    {
     "name": "stdout",
     "output_type": "stream",
     "text": [
      "The correlation coefficient between Pollution Burden and Non White Only Percentage is: 0.8521526837719156\n"
     ]
    }
   ],
   "source": [
    "# Calculate the correlation coefficient for 'Pollution Burden' and 'Non White Only Percentage'\n",
    "correlation_coefficient_pb_nwop = df['D5_CANCER'].corr(df['Non White Only Percentage'])\n",
    "\n",
    "# Print the correlation coefficient\n",
    "print(f\"The correlation coefficient between Pollution Burden and Non White Only Percentage is: {correlation_coefficient_pb_nwop}\")\n"
   ]
  },
  {
   "cell_type": "code",
   "execution_count": 49,
   "metadata": {},
   "outputs": [
    {
     "name": "stdout",
     "output_type": "stream",
     "text": [
      "The correlation coefficient between Pollution Burden and Non White Only Percentage is: 0.8848332367440636\n"
     ]
    }
   ],
   "source": [
    "# Calculate the correlation coefficient for 'Pollution Burden' and 'Non White Only Percentage'\n",
    "correlation_coefficient_pb_nwop = df['D5_DSLPM'].corr(df['Education'])\n",
    "\n",
    "# Print the correlation coefficient\n",
    "print(f\"The correlation coefficient between Pollution Burden and Non White Only Percentage is: {correlation_coefficient_pb_nwop}\")"
   ]
  },
  {
   "cell_type": "code",
   "execution_count": 50,
   "metadata": {},
   "outputs": [
    {
     "name": "stdout",
     "output_type": "stream",
     "text": [
      "The correlation coefficient between Pollution Burden and Non White Only Percentage is: 0.7393981820953819\n"
     ]
    }
   ],
   "source": [
    "# Calculate the correlation coefficient for 'Pollution Burden' and 'Non White Only Percentage'\n",
    "correlation_coefficient_pb_nwop = df['D5_DSLPM'].corr(df['LIFEEXPPCT'])\n",
    "\n",
    "# Print the correlation coefficient\n",
    "print(f\"The correlation coefficient between Pollution Burden and Non White Only Percentage is: {correlation_coefficient_pb_nwop}\")"
   ]
  },
  {
   "cell_type": "code",
   "execution_count": 51,
   "metadata": {},
   "outputs": [
    {
     "name": "stdout",
     "output_type": "stream",
     "text": [
      "The correlation coefficient between Pollution Burden and Non White Only Percentage is: 0.8308532683407613\n"
     ]
    }
   ],
   "source": [
    "# Calculate the correlation coefficient for 'Pollution Burden' and 'Non White Only Percentage'\n",
    "correlation_coefficient_pb_nwop = df['D5_DSLPM'].corr(df['Asthma'])\n",
    "\n",
    "# Print the correlation coefficient\n",
    "print(f\"The correlation coefficient between Pollution Burden and Non White Only Percentage is: {correlation_coefficient_pb_nwop}\")"
   ]
  },
  {
   "cell_type": "code",
   "execution_count": 52,
   "metadata": {},
   "outputs": [
    {
     "name": "stdout",
     "output_type": "stream",
     "text": [
      "The correlation coefficient between Pollution Burden and Non White Only Percentage is: 0.7783124483012188\n"
     ]
    }
   ],
   "source": [
    "# Calculate the correlation coefficient for 'Pollution Burden' and 'Non White Only Percentage'\n",
    "correlation_coefficient_pb_nwop = df['D5_DSLPM'].corr(df['Non White Only Percentage'])\n",
    "\n",
    "# Print the correlation coefficient\n",
    "print(f\"The correlation coefficient between Pollution Burden and Non White Only Percentage is: {correlation_coefficient_pb_nwop}\")"
   ]
  },
  {
   "cell_type": "code",
   "execution_count": 55,
   "metadata": {
    "scrolled": true
   },
   "outputs": [
    {
     "name": "stdout",
     "output_type": "stream",
     "text": [
      "The correlation coefficient between Pollution Burden and Non White Only Percentage is: 0.6478038538914707\n"
     ]
    }
   ],
   "source": [
    "# Calculate the correlation coefficient for 'Pollution Burden' and 'Non White Only Percentage'\n",
    "correlation_coefficient_pb_nwop = df['D5_RESP'].corr(df['Non White Only Percentage'])\n",
    "\n",
    "# Print the correlation coefficient\n",
    "print(f\"The correlation coefficient between Pollution Burden and Non White Only Percentage is: {correlation_coefficient_pb_nwop}\")"
   ]
  },
  {
   "cell_type": "code",
   "execution_count": 61,
   "metadata": {},
   "outputs": [
    {
     "name": "stdout",
     "output_type": "stream",
     "text": [
      "The correlation coefficient between Pollution Burden and Non White Only Percentage is: 0.8412960427559759\n"
     ]
    }
   ],
   "source": [
    "# Calculate the correlation coefficient for 'Pollution Burden' and 'Non White Only Percentage'\n",
    "correlation_coefficient_pb_nwop = df['D5_CANCER'].corr(df['LOWINCOME'])\n",
    "\n",
    "# Print the correlation coefficient\n",
    "print(f\"The correlation coefficient between Pollution Burden and Non White Only Percentage is: {correlation_coefficient_pb_nwop}\")"
   ]
  },
  {
   "cell_type": "code",
   "execution_count": 58,
   "metadata": {},
   "outputs": [
    {
     "name": "stdout",
     "output_type": "stream",
     "text": [
      "The correlation coefficient between Pollution Burden and Non White Only Percentage is: 0.7393981820953819\n"
     ]
    }
   ],
   "source": [
    "# Calculate the correlation coefficient for 'Pollution Burden' and 'Non White Only Percentage'\n",
    "correlation_coefficient_pb_nwop = df['D5_DSLPM'].corr(df['LIFEEXPPCT'])\n",
    "\n",
    "# Print the correlation coefficient\n",
    "print(f\"The correlation coefficient between Pollution Burden and Non White Only Percentage is: {correlation_coefficient_pb_nwop}\")"
   ]
  },
  {
   "cell_type": "code",
   "execution_count": null,
   "metadata": {},
   "outputs": [],
   "source": [
    "# Replace 'variable1' and 'variable2' with the actual column names\n",
    "sns.scatterplot(data=df_subset, x='CANCER', y='D5_CANCER')\n",
    "plt.title('Scatter Plot of variable1 vs variable2')\n",
    "plt.show()"
   ]
  },
  {
   "cell_type": "code",
   "execution_count": null,
   "metadata": {},
   "outputs": [],
   "source": []
  },
  {
   "cell_type": "code",
   "execution_count": 3,
   "metadata": {},
   "outputs": [
    {
     "name": "stdout",
     "output_type": "stream",
     "text": [
      "              Tract  Housing Unit Estimate  ...      D5_RESP      D2_RESP\n",
      "count  1.346000e+03            1340.000000  ...  1346.000000  1346.000000\n",
      "mean   6.037575e+09            1709.718657  ...     6.841420    21.969738\n",
      "std    2.937566e+04             550.186094  ...     4.029793    12.294579\n",
      "min    6.037555e+09              14.000000  ...     0.000000     0.000000\n",
      "25%    6.037571e+09            1339.000000  ...     4.178586    12.521868\n",
      "50%    6.037574e+09            1730.000000  ...     4.469963    15.349881\n",
      "75%    6.037575e+09            1905.000000  ...    11.050935    36.011537\n",
      "max    6.037980e+09            4004.000000  ...    19.803953    57.000000\n",
      "\n",
      "[8 rows x 36 columns]\n",
      "<class 'pandas.core.frame.DataFrame'>\n",
      "Int64Index: 1346 entries, 1 to 9954\n",
      "Data columns (total 43 columns):\n",
      " #   Column                     Non-Null Count  Dtype  \n",
      "---  ------                     --------------  -----  \n",
      " 0   Tract                      1346 non-null   int64  \n",
      " 1   Housing Unit Estimate      1340 non-null   float64\n",
      " 2   Latitude                   1340 non-null   float64\n",
      " 3   Longitude                  1340 non-null   float64\n",
      " 4   Pollution Burden           1340 non-null   float64\n",
      " 5   Education                  1339 non-null   float64\n",
      " 6   Asthma                     1340 non-null   float64\n",
      " 7   Asthma Pctl                1340 non-null   float64\n",
      " 8   PM2.5                      1340 non-null   float64\n",
      " 9   Tox. Release               1340 non-null   float64\n",
      " 10  Tox. Release Pctl          1340 non-null   float64\n",
      " 11  Pollution Burden Score     1340 non-null   float64\n",
      " 12  Hispanic (%)               1340 non-null   float64\n",
      " 13  White (%)                  1340 non-null   float64\n",
      " 14  African American (%)       1340 non-null   float64\n",
      " 15  Native American (%)        1340 non-null   float64\n",
      " 16  Asian American (%)         1340 non-null   float64\n",
      " 17  Geo Point                  1340 non-null   object \n",
      " 18  Geo Shape                  1340 non-null   object \n",
      " 19  Total Population           1340 non-null   float64\n",
      " 20  White Only Percentage      1340 non-null   object \n",
      " 21  Non White Only Percentage  1340 non-null   float64\n",
      " 22  Shape_Length               1346 non-null   float64\n",
      " 23  Shape_Area                 1346 non-null   float64\n",
      " 24  CNTY_NAME                  1346 non-null   object \n",
      " 25  LOWINCOME                  1346 non-null   float64\n",
      " 26  PEOPCOLORPCT               1346 non-null   float64\n",
      " 27  LIFEEXPPCT                 1267 non-null   float64\n",
      " 28  DSLPM                      1345 non-null   float64\n",
      " 29  CANCER                     1345 non-null   float64\n",
      " 30  RESP                       1345 non-null   float64\n",
      " 31  RSEI_AIR                   1346 non-null   float64\n",
      " 32  D2_DSLPM                   1346 non-null   float64\n",
      " 33  D5_DSLPM                   1346 non-null   float64\n",
      " 34  D2_PM25                    1346 non-null   float64\n",
      " 35  D5_PM25                    1346 non-null   float64\n",
      " 36  D2_CANCER                  1346 non-null   float64\n",
      " 37  D5_CANCER                  1346 non-null   float64\n",
      " 38  D5_RESP                    1346 non-null   float64\n",
      " 39  D2_RESP                    1346 non-null   float64\n",
      " 40  Species                    1346 non-null   object \n",
      " 41  City                       1346 non-null   object \n",
      " 42  California County          1340 non-null   object \n",
      "dtypes: float64(35), int64(1), object(7)\n",
      "memory usage: 462.7+ KB\n",
      "None\n"
     ]
    }
   ],
   "source": [
    "# Display basic information\n",
    "print(df.describe())\n",
    "print(df.info())\n",
    "\n",
    "# Initial visualizations for distribution\n",
    "df.hist(bins=30, figsize=(15, 10))\n",
    "plt.show()"
   ]
  },
  {
   "cell_type": "code",
   "execution_count": null,
   "metadata": {},
   "outputs": [],
   "source": []
  },
  {
   "cell_type": "code",
   "execution_count": null,
   "metadata": {},
   "outputs": [],
   "source": []
  },
  {
   "cell_type": "code",
   "execution_count": null,
   "metadata": {},
   "outputs": [],
   "source": [
    "columns_of_interest = [\n",
    "    'Pollution Burden', 'Asthma', 'Asthma Pctl', 'PM2.5', 'Non White Only Percentage', 'Education'\n",
    "    'LIFEEXPPCT', 'DSLPM', 'CANCER', 'RESP', 'RSEI_AIR', 'D2_DSLPM', 'D5_DSLPM',\n",
    "    'D2_PM25', 'D5_PM25', 'D2_CANCER', 'D5_CANCER', 'D5_RESP', 'D2_RESP'\n",
    "]\n",
    "df_subset = df_merged[columns_of_interest]\n",
    "\n",
    "# Compute the correlation matrix for the subset\n",
    "correlation_matrix_subset = df_subset.corr()\n",
    "\n",
    "# Set up the matplotlib figure\n",
    "plt.figure(figsize=(12, 8))\n",
    "\n",
    "# Draw the heatmap with the mask and correct aspect ratio\n",
    "sns.heatmap(correlation_matrix_subset, annot=True, fmt=\".2f\", cmap='coolwarm')\n",
    "plt.title('Correlation Matrix for Selected Variables')\n",
    "plt.show()"
   ]
  }
 ],
 "metadata": {
  "kernelspec": {
   "display_name": "ArcGISPro",
   "language": "Python",
   "name": "python3"
  },
  "language_info": {
   "file_extension": ".py",
   "name": "python",
   "version": "3"
  }
 },
 "nbformat": 4,
 "nbformat_minor": 2
}
