{
 "cells": [
  {
   "cell_type": "markdown",
   "metadata": {},
   "source": [
    "Working with POLB_SQL folder to match data from CSV files. "
   ]
  },
  {
   "cell_type": "code",
   "execution_count": 6,
   "metadata": {},
   "outputs": [],
   "source": [
    "import pandas as pd\n"
   ]
  },
  {
   "cell_type": "code",
   "execution_count": 11,
   "metadata": {},
   "outputs": [],
   "source": [
    "df1 = pd.read_csv(r'C:\\Users\\Philippa Burgess\\Downloads\\POLB_SQL\\CENSUS_LB.csv')\n",
    "df2 = pd.read_csv(r'C:\\Users\\Philippa Burgess\\Downloads\\POLB_SQL\\CES_POL.csv')\n",
    "df3 = pd.read_csv(r'C:\\Users\\Philippa Burgess\\Downloads\\POLB_SQL\\CES_RACE.csv')\n",
    "df4 = pd.read_csv(r'C:\\Users\\Philippa Burgess\\Downloads\\POLB_SQL\\COLB_POP.csv')\n",
    "df5 = pd.read_csv(r'C:\\Users\\Philippa Burgess\\Downloads\\POLB_SQL\\EJScreen_CA.csv')\n",
    "df6 = pd.read_csv(r'C:\\Users\\Philippa Burgess\\Downloads\\POLB_SQL\\NEWTREE_LB.csv')"
   ]
  },
  {
   "cell_type": "code",
   "execution_count": 12,
   "metadata": {},
   "outputs": [
    {
     "name": "stdout",
     "output_type": "stream",
     "text": [
      "Index(['Geo Point', 'Geo Shape', 'GEOID', 'LANDAREA', 'WATERAREA', 'Latitude',\n",
      "       'Longitude', 'Total Population', 'White Only Population',\n",
      "       'Non White Only Percentage', 'AREA_SQMI', 'Total Population Estimate',\n",
      "       'Total Population Margin of Error', 'Housing Unit Estimate',\n",
      "       'Housing Unit Margin of Error', 'RPL_THEME1', 'RPL_THEME2',\n",
      "       'RPL_THEME3', 'RPL_THEME4', 'RPL_THEMES'],\n",
      "      dtype='object')\n",
      "Index(['Census Tract', 'Total Population', 'California County', 'ZIP',\n",
      "       'Approximate Location', 'Longitude', 'Latitude', 'CES 4.0 Score',\n",
      "       'CES 4.0 Percentile', 'CES 4.0 Percentile Range', 'Ozone', 'Ozone Pctl',\n",
      "       'PM2.5', 'PM2.5 Pctl', 'Diesel PM', 'Diesel PM Pctl', 'Drinking Water',\n",
      "       'Drinking Water Pctl', 'Lead', 'Lead Pctl', 'Pesticides',\n",
      "       'Pesticides Pctl', 'Tox. Release', 'Tox. Release Pctl', 'Traffic',\n",
      "       'Traffic Pctl', 'Cleanup Sites', 'Cleanup Sites Pctl',\n",
      "       'Groundwater Threats', 'Groundwater Threats Pctl', 'Haz. Waste',\n",
      "       'Haz. Waste Pctl', 'Imp. Water Bodies', 'Imp. Water Bodies Pctl',\n",
      "       'Solid Waste', 'Solid Waste Pctl', 'Pollution Burden',\n",
      "       'Pollution Burden Score', 'Pollution Burden Pctl', 'Asthma',\n",
      "       'Asthma Pctl', 'Low Birth Weight', 'Low Birth Weight Pctl',\n",
      "       'Cardiovascular Disease', 'Cardiovascular Disease Pctl', 'Education',\n",
      "       'Education Pctl', 'Linguistic Isolation', 'Linguistic Isolation Pctl',\n",
      "       'Poverty', 'Poverty Pctl', 'Unemployment', 'Unemployment Pctl',\n",
      "       'Housing Burden', 'Housing Burden Pctl', 'Pop. Char. ',\n",
      "       'Pop. Char. Score', 'Pop. Char. Pctl'],\n",
      "      dtype='object')\n",
      "Index(['Census Tract', 'CES 4.0 Score', 'CES 4.0 Percentile',\n",
      "       'CES 4.0 Percentile Range', 'California County', 'Total Population',\n",
      "       'Children < 10 years (%)', 'Pop 10-64 years (%)',\n",
      "       'Elderly > 64 years (%)', 'Hispanic (%)', 'White (%)',\n",
      "       'African American (%)', 'Native American (%)', 'Asian American (%)',\n",
      "       'Other/Multiple (%)'],\n",
      "      dtype='object')\n",
      "Index(['Geo Point', 'Geo Shape', 'GEOID', 'LANDAREA', 'WATERAREA', 'Latitude',\n",
      "       'Longitude', 'Total Population', 'White Only Population',\n",
      "       'White Only Percentage', 'Non-White Population',\n",
      "       'Non White Only Percentage', 'Unnamed: 12'],\n",
      "      dtype='object')\n",
      "Index(['OID_', 'ID', 'STATE_NAME', 'ST_ABBREV', 'CNTY_NAME', 'REGION',\n",
      "       'ACSTOTPOP', 'ACSIPOVBAS', 'ACSEDUCBAS', 'ACSTOTHH',\n",
      "       ...\n",
      "       'P_D2_PWDIS', 'P_D5_PWDIS', 'AREALAND', 'AREAWATER', 'NPL_CNT',\n",
      "       'TSDF_CNT', 'EXCEED_COUNT_80', 'EXCEED_COUNT_80_SUP', 'Shape_Length',\n",
      "       'Shape_Area'],\n",
      "      dtype='object', length=126)\n",
      "Index(['﻿TreeNumber', 'Species', 'City', 'Longitude', 'Latitude', 'Tract'], dtype='object')\n"
     ]
    }
   ],
   "source": [
    "print(df1.columns)\n",
    "print(df2.columns)\n",
    "print(df3.columns)\n",
    "print(df4.columns)\n",
    "print(df5.columns)\n",
    "print(df6.columns)"
   ]
  },
  {
   "cell_type": "code",
   "execution_count": 13,
   "metadata": {},
   "outputs": [],
   "source": [
    "df1.rename(columns={'GEOID': 'Tract'}, inplace=True)\n",
    "df2.rename(columns={'Census Tract': 'Tract'}, inplace=True)\n",
    "df3.rename(columns={'Census Tract': 'Tract'}, inplace=True)\n",
    "df4.rename(columns={'GEOID': 'Tract'}, inplace=True)\n",
    "df5.rename(columns={'ID': 'Tract'}, inplace=True)"
   ]
  },
  {
   "cell_type": "code",
   "execution_count": 14,
   "metadata": {},
   "outputs": [
    {
     "name": "stdout",
     "output_type": "stream",
     "text": [
      "Columns in df1: Index(['Geo Point', 'Geo Shape', 'Tract', 'LANDAREA', 'WATERAREA', 'Latitude',\n",
      "       'Longitude', 'Total Population', 'White Only Population',\n",
      "       'Non White Only Percentage', 'AREA_SQMI', 'Total Population Estimate',\n",
      "       'Total Population Margin of Error', 'Housing Unit Estimate',\n",
      "       'Housing Unit Margin of Error', 'RPL_THEME1', 'RPL_THEME2',\n",
      "       'RPL_THEME3', 'RPL_THEME4', 'RPL_THEMES'],\n",
      "      dtype='object')\n",
      "Columns in df2: Index(['Tract', 'Total Population', 'California County', 'ZIP',\n",
      "       'Approximate Location', 'Longitude', 'Latitude', 'CES 4.0 Score',\n",
      "       'CES 4.0 Percentile', 'CES 4.0 Percentile Range', 'Ozone', 'Ozone Pctl',\n",
      "       'PM2.5', 'PM2.5 Pctl', 'Diesel PM', 'Diesel PM Pctl', 'Drinking Water',\n",
      "       'Drinking Water Pctl', 'Lead', 'Lead Pctl', 'Pesticides',\n",
      "       'Pesticides Pctl', 'Tox. Release', 'Tox. Release Pctl', 'Traffic',\n",
      "       'Traffic Pctl', 'Cleanup Sites', 'Cleanup Sites Pctl',\n",
      "       'Groundwater Threats', 'Groundwater Threats Pctl', 'Haz. Waste',\n",
      "       'Haz. Waste Pctl', 'Imp. Water Bodies', 'Imp. Water Bodies Pctl',\n",
      "       'Solid Waste', 'Solid Waste Pctl', 'Pollution Burden',\n",
      "       'Pollution Burden Score', 'Pollution Burden Pctl', 'Asthma',\n",
      "       'Asthma Pctl', 'Low Birth Weight', 'Low Birth Weight Pctl',\n",
      "       'Cardiovascular Disease', 'Cardiovascular Disease Pctl', 'Education',\n",
      "       'Education Pctl', 'Linguistic Isolation', 'Linguistic Isolation Pctl',\n",
      "       'Poverty', 'Poverty Pctl', 'Unemployment', 'Unemployment Pctl',\n",
      "       'Housing Burden', 'Housing Burden Pctl', 'Pop. Char. ',\n",
      "       'Pop. Char. Score', 'Pop. Char. Pctl'],\n",
      "      dtype='object')\n",
      "Columns in df3: Index(['Tract', 'CES 4.0 Score', 'CES 4.0 Percentile',\n",
      "       'CES 4.0 Percentile Range', 'California County', 'Total Population',\n",
      "       'Children < 10 years (%)', 'Pop 10-64 years (%)',\n",
      "       'Elderly > 64 years (%)', 'Hispanic (%)', 'White (%)',\n",
      "       'African American (%)', 'Native American (%)', 'Asian American (%)',\n",
      "       'Other/Multiple (%)'],\n",
      "      dtype='object')\n",
      "Columns in df4: Index(['Geo Point', 'Geo Shape', 'Tract', 'LANDAREA', 'WATERAREA', 'Latitude',\n",
      "       'Longitude', 'Total Population', 'White Only Population',\n",
      "       'White Only Percentage', 'Non-White Population',\n",
      "       'Non White Only Percentage', 'Unnamed: 12'],\n",
      "      dtype='object')\n",
      "Columns in df5: Index(['OID_', 'Tract', 'STATE_NAME', 'ST_ABBREV', 'CNTY_NAME', 'REGION',\n",
      "       'ACSTOTPOP', 'ACSIPOVBAS', 'ACSEDUCBAS', 'ACSTOTHH',\n",
      "       ...\n",
      "       'P_D2_PWDIS', 'P_D5_PWDIS', 'AREALAND', 'AREAWATER', 'NPL_CNT',\n",
      "       'TSDF_CNT', 'EXCEED_COUNT_80', 'EXCEED_COUNT_80_SUP', 'Shape_Length',\n",
      "       'Shape_Area'],\n",
      "      dtype='object', length=126)\n",
      "Columns in df6: Index(['﻿TreeNumber', 'Species', 'City', 'Longitude', 'Latitude', 'Tract'], dtype='object')\n"
     ]
    }
   ],
   "source": [
    "print(\"Columns in df1:\", df1.columns)\n",
    "print(\"Columns in df2:\", df2.columns)\n",
    "print(\"Columns in df3:\", df3.columns)\n",
    "print(\"Columns in df4:\", df4.columns)\n",
    "print(\"Columns in df5:\", df5.columns)\n",
    "print(\"Columns in df6:\", df6.columns)"
   ]
  },
  {
   "cell_type": "code",
   "execution_count": 47,
   "metadata": {},
   "outputs": [
    {
     "name": "stdout",
     "output_type": "stream",
     "text": [
      "Columns in df_merged: Index(['Tract', 'Total Population_x', 'Housing Unit Estimate', 'Latitude_x',\n",
      "       'Longitude_x', 'California County_x', 'Pollution Burden', 'Education',\n",
      "       'Asthma', 'Asthma Pctl', 'PM2.5', 'Tox. Release', 'Tox. Release Pctl',\n",
      "       'Pollution Burden Score', 'California County_y', 'Total Population_y',\n",
      "       'Hispanic (%)', 'White (%)', 'African American (%)',\n",
      "       'Native American (%)', 'Asian American (%)', 'Latitude_y',\n",
      "       'Longitude_y', 'Geo Point', 'Geo Shape', 'Total Population',\n",
      "       'White Only Percentage', 'Non White Only Percentage', 'Shape_Length',\n",
      "       'Shape_Area', 'CNTY_NAME', 'LOWINCOME', 'PEOPCOLORPCT', 'LIFEEXPPCT',\n",
      "       'DSLPM', 'CANCER', 'RESP', 'RSEI_AIR', 'D2_DSLPM', 'D5_DSLPM',\n",
      "       'D2_PM25', 'D5_PM25', 'D2_CANCER', 'D5_CANCER', 'D5_RESP', 'D2_RESP',\n",
      "       'Longitude', 'Latitude', 'Species', 'City'],\n",
      "      dtype='object')\n"
     ]
    }
   ],
   "source": [
    "from functools import reduce\n",
    "\n",
    "df1_selected = df1[['Tract', 'Total Population', 'Housing Unit Estimate']]  # Prioritize Total Population from Census\n",
    "df2_selected = df2[['Tract', 'Latitude', 'Longitude', 'California County', 'Pollution Burden', 'Education', 'Asthma', 'Asthma Pctl', 'PM2.5', 'Tox. Release', 'Tox. Release Pctl', 'Pollution Burden Score']]  # Prioritize Lat/Long from CES_POL\n",
    "df3_selected = df3[['Tract', 'California County', 'Total Population', 'Hispanic (%)', 'White (%)', 'African American (%)', 'Native American (%)', 'Asian American (%)']]  \n",
    "df4_selected = df4[['Tract', 'Latitude', 'Longitude', 'Geo Point', 'Geo Shape', 'Total Population', 'White Only Percentage', 'Non White Only Percentage']]\n",
    "df5_selected = df5[['Tract', 'Shape_Length', 'Shape_Area', 'CNTY_NAME', 'LOWINCOME', 'PEOPCOLORPCT', 'LIFEEXPPCT', 'DSLPM', 'CANCER', 'RESP', 'RSEI_AIR', 'D2_DSLPM', 'D5_DSLPM', 'D2_PM25', 'D5_PM25', 'D2_CANCER', 'D5_CANCER', 'D5_RESP', 'D2_RESP']]\n",
    "df6_selected = df6[['Tract', 'Longitude', 'Latitude', 'Species', 'City']]\n",
    "\n",
    "dataframes_selected = [df1_selected, df2_selected, df3_selected, df4_selected, df5_selected, df6_selected]\n",
    "\n",
    "df_merged = reduce(lambda left, right: pd.merge(left, right, on='Tract', how='outer'), dataframes_selected)\n",
    "\n",
    "print(\"Columns in df_merged:\", df_merged.columns)\n"
   ]
  },
  {
   "cell_type": "code",
   "execution_count": 52,
   "metadata": {},
   "outputs": [
    {
     "name": "stdout",
     "output_type": "stream",
     "text": [
      "Columns in df_merged: Index(['Tract', 'Total Population_x', 'Housing Unit Estimate', 'Latitude_x',\n",
      "       'Longitude_x', 'California County_x', 'Pollution Burden', 'Education',\n",
      "       'Asthma', 'Asthma Pctl', 'PM2.5', 'Tox. Release', 'Tox. Release Pctl',\n",
      "       'Pollution Burden Score', 'California County_y', 'Total Population_y',\n",
      "       'Hispanic (%)', 'White (%)', 'African American (%)',\n",
      "       'Native American (%)', 'Asian American (%)', 'Geo Point', 'Geo Shape',\n",
      "       'Total Population', 'White Only Percentage',\n",
      "       'Non White Only Percentage', 'Shape_Length', 'Shape_Area', 'CNTY_NAME',\n",
      "       'LOWINCOME', 'PEOPCOLORPCT', 'LIFEEXPPCT', 'DSLPM', 'CANCER', 'RESP',\n",
      "       'RSEI_AIR', 'D2_DSLPM', 'D5_DSLPM', 'D2_PM25', 'D5_PM25', 'D2_CANCER',\n",
      "       'D5_CANCER', 'D5_RESP', 'D2_RESP', 'Species', 'City'],\n",
      "      dtype='object')\n"
     ]
    }
   ],
   "source": [
    "# Check if 'Latitude_x' and 'Latitude_y' exist before combining\n",
    "if 'Latitude_x' in df_merged.columns and 'Latitude_y' in df_merged.columns:\n",
    "    df_merged['Latitude_x'] = df_merged['Latitude_x'].combine_first(df_merged['Latitude_y'])\n",
    "    df_merged.drop(columns='Latitude_y', inplace=True)\n",
    "\n",
    "# Check if 'Longitude_x' and 'Longitude_y' exist before combining\n",
    "if 'Longitude_x' in df_merged.columns and 'Longitude_y' in df_merged.columns:\n",
    "    df_merged['Longitude_x'] = df_merged['Longitude_x'].combine_first(df_merged['Longitude_y'])\n",
    "    df_merged.drop(columns='Longitude_y', inplace=True)\n",
    "\n",
    "# Check if 'Latitude_x' and 'Latitude' exist before combining\n",
    "if 'Latitude_x' in df_merged.columns and 'Latitude' in df_merged.columns:\n",
    "    df_merged['Latitude_x'] = df_merged['Latitude_x'].combine_first(df_merged['Latitude'])\n",
    "    df_merged.drop(columns='Latitude', inplace=True)\n",
    "\n",
    "# Check if 'Longitude_x' and 'Longitude' exist before combining\n",
    "if 'Longitude_x' in df_merged.columns and 'Longitude' in df_merged.columns:\n",
    "    df_merged['Longitude_x'] = df_merged['Longitude_x'].combine_first(df_merged['Longitude'])\n",
    "    df_merged.drop(columns='Longitude', inplace=True)\n",
    "\n",
    "# Print the columns of df_merged to verify\n",
    "print(\"Columns in df_merged:\", df_merged.columns)\n"
   ]
  },
  {
   "cell_type": "code",
   "execution_count": 53,
   "metadata": {},
   "outputs": [],
   "source": [
    "df_merged.rename(columns={'Latitude_x': 'Latitude', 'Longitude_x': 'Longitude'}, inplace=True)\n"
   ]
  },
  {
   "cell_type": "code",
   "execution_count": 35,
   "metadata": {
    "scrolled": true
   },
   "outputs": [
    {
     "name": "stdout",
     "output_type": "stream",
     "text": [
      "        Tract                             Geo Point_x  ...    D5_RESP    D2_RESP\n",
      "0  6037554301    33.88223298705251, -118.145643767475  ...   9.421061  34.530019\n",
      "1  6037570602  33.85615987299268, -118.17292393391853  ...  11.398333  36.011537\n",
      "2  6037570601   33.85688716230184, -118.1809738827023  ...  10.752842  34.019222\n",
      "3  6037570303  33.85993766107599, -118.19186723936483  ...  13.874554  41.591565\n",
      "4  6037572600   33.80801475168484, -118.2139281094576  ...  10.456228  38.810481\n",
      "\n",
      "[5 rows x 49 columns]\n"
     ]
    }
   ],
   "source": [
    "print(df_merged.head())"
   ]
  },
  {
   "cell_type": "code",
   "execution_count": 54,
   "metadata": {},
   "outputs": [
    {
     "name": "stdout",
     "output_type": "stream",
     "text": [
      "Columns in df_merged: Index(['Tract', 'Housing Unit Estimate', 'Latitude', 'Longitude',\n",
      "       'Pollution Burden', 'Education', 'Asthma', 'Asthma Pctl', 'PM2.5',\n",
      "       'Tox. Release', 'Tox. Release Pctl', 'Pollution Burden Score',\n",
      "       'Hispanic (%)', 'White (%)', 'African American (%)',\n",
      "       'Native American (%)', 'Asian American (%)', 'Geo Point', 'Geo Shape',\n",
      "       'Total Population', 'White Only Percentage',\n",
      "       'Non White Only Percentage', 'Shape_Length', 'Shape_Area', 'CNTY_NAME',\n",
      "       'LOWINCOME', 'PEOPCOLORPCT', 'LIFEEXPPCT', 'DSLPM', 'CANCER', 'RESP',\n",
      "       'RSEI_AIR', 'D2_DSLPM', 'D5_DSLPM', 'D2_PM25', 'D5_PM25', 'D2_CANCER',\n",
      "       'D5_CANCER', 'D5_RESP', 'D2_RESP', 'Species', 'City',\n",
      "       'California County'],\n",
      "      dtype='object')\n"
     ]
    }
   ],
   "source": [
    "# Merge California County and Total Population\n",
    "\n",
    "# Check if 'Total Population_x' and 'Total Population_y' exist before combining\n",
    "if 'Total Population_x' in df_merged.columns and 'Total Population_y' in df_merged.columns:\n",
    "    df_merged['Total Population'] = df_merged['Total Population_x'].combine_first(df_merged['Total Population_y'])\n",
    "    df_merged.drop(columns=['Total Population_x', 'Total Population_y'], inplace=True)\n",
    "\n",
    "# Check if 'California County_x' and 'California County_y' exist before combining\n",
    "if 'California County_x' in df_merged.columns and 'California County_y' in df_merged.columns:\n",
    "    df_merged['California County'] = df_merged['California County_x'].combine_first(df_merged['California County_y'])\n",
    "    df_merged.drop(columns=['California County_x', 'California County_y'], inplace=True)\n",
    "\n",
    "# Print the columns of df_merged to verify\n",
    "print(\"Columns in df_merged:\", df_merged.columns)"
   ]
  },
  {
   "cell_type": "code",
   "execution_count": 55,
   "metadata": {},
   "outputs": [],
   "source": [
    "df_merged.to_csv(r'C:\\Users\\Philippa Burgess\\Downloads\\POLB_SQL\\POLB_Merged.csv', index=False)\n"
   ]
  },
  {
   "cell_type": "code",
   "execution_count": 56,
   "metadata": {},
   "outputs": [
    {
     "name": "stdout",
     "output_type": "stream",
     "text": [
      "Columns in df_merged: Index(['Tract', 'Housing Unit Estimate', 'Latitude', 'Longitude',\n",
      "       'Pollution Burden', 'Education', 'Asthma', 'Asthma Pctl', 'PM2.5',\n",
      "       'Tox. Release', 'Tox. Release Pctl', 'Pollution Burden Score',\n",
      "       'Hispanic (%)', 'White (%)', 'African American (%)',\n",
      "       'Native American (%)', 'Asian American (%)', 'Geo Point', 'Geo Shape',\n",
      "       'Total Population', 'White Only Percentage',\n",
      "       'Non White Only Percentage', 'Shape_Length', 'Shape_Area', 'CNTY_NAME',\n",
      "       'LOWINCOME', 'PEOPCOLORPCT', 'LIFEEXPPCT', 'DSLPM', 'CANCER', 'RESP',\n",
      "       'RSEI_AIR', 'D2_DSLPM', 'D5_DSLPM', 'D2_PM25', 'D5_PM25', 'D2_CANCER',\n",
      "       'D5_CANCER', 'D5_RESP', 'D2_RESP', 'Species', 'City',\n",
      "       'California County'],\n",
      "      dtype='object')\n"
     ]
    }
   ],
   "source": [
    "print(\"Columns in df_merged:\", df_merged.columns)"
   ]
  },
  {
   "cell_type": "code",
   "execution_count": null,
   "metadata": {},
   "outputs": [],
   "source": []
  },
  {
   "cell_type": "code",
   "execution_count": null,
   "metadata": {},
   "outputs": [],
   "source": []
  }
 ],
 "metadata": {
  "kernelspec": {
   "display_name": "ArcGISPro",
   "language": "Python",
   "name": "python3"
  },
  "language_info": {
   "file_extension": ".py",
   "name": "python",
   "version": "3"
  }
 },
 "nbformat": 4,
 "nbformat_minor": 2
}
