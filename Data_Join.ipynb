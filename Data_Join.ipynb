{
 "cells": [
  {
   "cell_type": "markdown",
   "metadata": {},
   "source": [
    "Working with POLB_SQL folder to match data from CSV files. "
   ]
  },
  {
   "cell_type": "code",
   "execution_count": 3,
   "metadata": {},
   "outputs": [],
   "source": [
    "import pandas as pd\n"
   ]
  },
  {
   "cell_type": "code",
   "execution_count": 8,
   "metadata": {},
   "outputs": [],
   "source": [
    "df1 = pd.read_csv('POLB_SQL\\CENSUS_LB.csv')\n",
    "df2 = pd.read_csv('POLB_SQL\\CES_POL.csv')\n",
    "df3 = pd.read_csv('POLB_SQL\\CES_RACE.csv')\n",
    "df4 = pd.read_csv('POLB_SQL\\COLB_POP.csv')\n",
    "df5 = pd.read_csv('POLB_SQL\\EJScreen_CA.csv')\n",
    "df6 = pd.read_csv('POLB_SQL\\NEWTREE_LB.csv')"
   ]
  },
  {
   "cell_type": "code",
   "execution_count": 9,
   "metadata": {},
   "outputs": [
    {
     "name": "stdout",
     "output_type": "stream",
     "text": [
      "Index(['Geo Point', 'Geo Shape', 'GEOID', 'LANDAREA', 'WATERAREA', 'Latitude',\n",
      "       'Longitude', 'Total Population', 'White Only Population',\n",
      "       'Non White Only Percentage', 'AREA_SQMI', 'Total Population Estimate',\n",
      "       'Total Population Margin of Error', 'Housing Unit Estimate',\n",
      "       'Housing Unit Margin of Error', 'RPL_THEME1', 'RPL_THEME2',\n",
      "       'RPL_THEME3', 'RPL_THEME4', 'RPL_THEMES'],\n",
      "      dtype='object')\n",
      "Index(['Census Tract', 'Total Population', 'California County', 'ZIP',\n",
      "       'Approximate Location', 'Longitude', 'Latitude', 'CES 4.0 Score',\n",
      "       'CES 4.0 Percentile', 'CES 4.0 Percentile Range', 'Ozone', 'Ozone Pctl',\n",
      "       'PM2.5', 'PM2.5 Pctl', 'Diesel PM', 'Diesel PM Pctl', 'Drinking Water',\n",
      "       'Drinking Water Pctl', 'Lead', 'Lead Pctl', 'Pesticides',\n",
      "       'Pesticides Pctl', 'Tox. Release', 'Tox. Release Pctl', 'Traffic',\n",
      "       'Traffic Pctl', 'Cleanup Sites', 'Cleanup Sites Pctl',\n",
      "       'Groundwater Threats', 'Groundwater Threats Pctl', 'Haz. Waste',\n",
      "       'Haz. Waste Pctl', 'Imp. Water Bodies', 'Imp. Water Bodies Pctl',\n",
      "       'Solid Waste', 'Solid Waste Pctl', 'Pollution Burden',\n",
      "       'Pollution Burden Score', 'Pollution Burden Pctl', 'Asthma',\n",
      "       'Asthma Pctl', 'Low Birth Weight', 'Low Birth Weight Pctl',\n",
      "       'Cardiovascular Disease', 'Cardiovascular Disease Pctl', 'Education',\n",
      "       'Education Pctl', 'Linguistic Isolation', 'Linguistic Isolation Pctl',\n",
      "       'Poverty', 'Poverty Pctl', 'Unemployment', 'Unemployment Pctl',\n",
      "       'Housing Burden', 'Housing Burden Pctl', 'Pop. Char. ',\n",
      "       'Pop. Char. Score', 'Pop. Char. Pctl'],\n",
      "      dtype='object')\n",
      "Index(['Census Tract', 'CES 4.0 Score', 'CES 4.0 Percentile',\n",
      "       'CES 4.0 Percentile Range', 'California County', 'Total Population',\n",
      "       'Children < 10 years (%)', 'Pop 10-64 years (%)',\n",
      "       'Elderly > 64 years (%)', 'Hispanic (%)', 'White (%)',\n",
      "       'African American (%)', 'Native American (%)', 'Asian American (%)',\n",
      "       'Other/Multiple (%)'],\n",
      "      dtype='object')\n",
      "Index(['Geo Point', 'Geo Shape', 'GEOID', 'LANDAREA', 'WATERAREA', 'Latitude',\n",
      "       'Longitude', 'Total Population', 'White Only Population',\n",
      "       'White Only Percentage', 'Non-White Population',\n",
      "       'Non White Only Percentage', 'Unnamed: 12'],\n",
      "      dtype='object')\n",
      "Index(['OID_', 'ID', 'STATE_NAME', 'ST_ABBREV', 'CNTY_NAME', 'REGION',\n",
      "       'ACSTOTPOP', 'ACSIPOVBAS', 'ACSEDUCBAS', 'ACSTOTHH',\n",
      "       ...\n",
      "       'P_D2_PWDIS', 'P_D5_PWDIS', 'AREALAND', 'AREAWATER', 'NPL_CNT',\n",
      "       'TSDF_CNT', 'EXCEED_COUNT_80', 'EXCEED_COUNT_80_SUP', 'Shape_Length',\n",
      "       'Shape_Area'],\n",
      "      dtype='object', length=126)\n",
      "Index(['﻿TreeNumber', 'Species', 'City', 'Longitude', 'Latitude', 'Tract'], dtype='object')\n"
     ]
    }
   ],
   "source": [
    "print(df1.columns)\n",
    "print(df2.columns)\n",
    "print(df3.columns)\n",
    "print(df4.columns)\n",
    "print(df5.columns)\n",
    "print(df6.columns)"
   ]
  },
  {
   "cell_type": "code",
   "execution_count": 11,
   "metadata": {},
   "outputs": [],
   "source": [
    "df1.rename(columns={'GEOID': 'Tract'}, inplace=True)\n",
    "df2.rename(columns={'Census Tract': 'Tract'}, inplace=True)\n",
    "df3.rename(columns={'Census Tract': 'Tract'}, inplace=True)\n",
    "df4.rename(columns={'GEOID': 'Tract'}, inplace=True)\n",
    "df5.rename(columns={'ID': 'Tract'}, inplace=True)"
   ]
  },
  {
   "cell_type": "code",
   "execution_count": 12,
   "metadata": {},
   "outputs": [
    {
     "name": "stdout",
     "output_type": "stream",
     "text": [
      "Columns in df1: Index(['Geo Point', 'Geo Shape', 'Tract', 'LANDAREA', 'WATERAREA', 'Latitude',\n",
      "       'Longitude', 'Total Population', 'White Only Population',\n",
      "       'Non White Only Percentage', 'AREA_SQMI', 'Total Population Estimate',\n",
      "       'Total Population Margin of Error', 'Housing Unit Estimate',\n",
      "       'Housing Unit Margin of Error', 'RPL_THEME1', 'RPL_THEME2',\n",
      "       'RPL_THEME3', 'RPL_THEME4', 'RPL_THEMES'],\n",
      "      dtype='object')\n",
      "Columns in df2: Index(['Tract', 'Total Population', 'California County', 'ZIP',\n",
      "       'Approximate Location', 'Longitude', 'Latitude', 'CES 4.0 Score',\n",
      "       'CES 4.0 Percentile', 'CES 4.0 Percentile Range', 'Ozone', 'Ozone Pctl',\n",
      "       'PM2.5', 'PM2.5 Pctl', 'Diesel PM', 'Diesel PM Pctl', 'Drinking Water',\n",
      "       'Drinking Water Pctl', 'Lead', 'Lead Pctl', 'Pesticides',\n",
      "       'Pesticides Pctl', 'Tox. Release', 'Tox. Release Pctl', 'Traffic',\n",
      "       'Traffic Pctl', 'Cleanup Sites', 'Cleanup Sites Pctl',\n",
      "       'Groundwater Threats', 'Groundwater Threats Pctl', 'Haz. Waste',\n",
      "       'Haz. Waste Pctl', 'Imp. Water Bodies', 'Imp. Water Bodies Pctl',\n",
      "       'Solid Waste', 'Solid Waste Pctl', 'Pollution Burden',\n",
      "       'Pollution Burden Score', 'Pollution Burden Pctl', 'Asthma',\n",
      "       'Asthma Pctl', 'Low Birth Weight', 'Low Birth Weight Pctl',\n",
      "       'Cardiovascular Disease', 'Cardiovascular Disease Pctl', 'Education',\n",
      "       'Education Pctl', 'Linguistic Isolation', 'Linguistic Isolation Pctl',\n",
      "       'Poverty', 'Poverty Pctl', 'Unemployment', 'Unemployment Pctl',\n",
      "       'Housing Burden', 'Housing Burden Pctl', 'Pop. Char. ',\n",
      "       'Pop. Char. Score', 'Pop. Char. Pctl'],\n",
      "      dtype='object')\n",
      "Columns in df3: Index(['Tract', 'CES 4.0 Score', 'CES 4.0 Percentile',\n",
      "       'CES 4.0 Percentile Range', 'California County', 'Total Population',\n",
      "       'Children < 10 years (%)', 'Pop 10-64 years (%)',\n",
      "       'Elderly > 64 years (%)', 'Hispanic (%)', 'White (%)',\n",
      "       'African American (%)', 'Native American (%)', 'Asian American (%)',\n",
      "       'Other/Multiple (%)'],\n",
      "      dtype='object')\n",
      "Columns in df4: Index(['Geo Point', 'Geo Shape', 'Tract', 'LANDAREA', 'WATERAREA', 'Latitude',\n",
      "       'Longitude', 'Total Population', 'White Only Population',\n",
      "       'White Only Percentage', 'Non-White Population',\n",
      "       'Non White Only Percentage', 'Unnamed: 12'],\n",
      "      dtype='object')\n",
      "Columns in df5: Index(['OID_', 'Tract', 'STATE_NAME', 'ST_ABBREV', 'CNTY_NAME', 'REGION',\n",
      "       'ACSTOTPOP', 'ACSIPOVBAS', 'ACSEDUCBAS', 'ACSTOTHH',\n",
      "       ...\n",
      "       'P_D2_PWDIS', 'P_D5_PWDIS', 'AREALAND', 'AREAWATER', 'NPL_CNT',\n",
      "       'TSDF_CNT', 'EXCEED_COUNT_80', 'EXCEED_COUNT_80_SUP', 'Shape_Length',\n",
      "       'Shape_Area'],\n",
      "      dtype='object', length=126)\n",
      "Columns in df6: Index(['﻿TreeNumber', 'Species', 'City', 'Longitude', 'Latitude', 'Tract'], dtype='object')\n"
     ]
    }
   ],
   "source": [
    "print(\"Columns in df1:\", df1.columns)\n",
    "print(\"Columns in df2:\", df2.columns)\n",
    "print(\"Columns in df3:\", df3.columns)\n",
    "print(\"Columns in df4:\", df4.columns)\n",
    "print(\"Columns in df5:\", df5.columns)\n",
    "print(\"Columns in df6:\", df6.columns)"
   ]
  },
  {
   "cell_type": "code",
   "execution_count": 17,
   "metadata": {},
   "outputs": [],
   "source": [
    "df1_selected = df1[['Tract', 'Latitude', 'Longitude', 'Total Population', 'Housing Unit Estimate']]  \n",
    "df2_selected = df2[['Tract', 'Longitude', 'Latitude', 'California County', 'Pollution Burden', 'Education', 'Asthma', 'Asthma Pctl', 'PM2.5', 'Tox. Release', 'Tox. Release Pctl', 'Pollution Burden Score']]  \n",
    "df3_selected = df3[['Tract', 'California County', 'Total Population', 'Hispanic (%)', 'White (%)', 'African American (%)', 'Native American (%)', 'Asian American (%)']]  \n",
    "df4_selected = df4[['Tract', 'Latitude', 'Longitude', 'Total Population', 'White Only Percentage', 'Non White Only Percentage']]\n",
    "df5_selected = df5[['Tract', 'CNTY_NAME', 'LOWINCOME', 'PEOPCOLORPCT', 'LIFEEXPPCT', 'DSLPM', 'CANCER', 'RESP', 'RSEI_AIR', 'D2_DSLPM', 'D5_DSLPM', 'D2_PM25', 'D5_PM25', 'D2_CANCER', 'D5_CANCER', 'D5_RESP', 'D2_RESP', 'Shape_Length', 'Shape_Area']]\n",
    "df6_selected = df6[['Tract', 'Longitude', 'Latitude', 'Species', 'City']]"
   ]
  },
  {
   "cell_type": "code",
   "execution_count": 18,
   "metadata": {},
   "outputs": [],
   "source": [
    "from functools import reduce\n",
    "\n",
    "dataframes_selected = [df1_selected, df2_selected, df3_selected, df4_selected, df5_selected]\n",
    "df_merged = reduce(lambda left, right: pd.merge(left, right, on='Tract'), dataframes_selected)"
   ]
  },
  {
   "cell_type": "code",
   "execution_count": 19,
   "metadata": {},
   "outputs": [
    {
     "name": "stdout",
     "output_type": "stream",
     "text": [
      "        Tract  Latitude_x  Longitude_x  ...    D2_RESP  Shape_Length  Shape_Area\n",
      "0  6037554301   33.882263  -118.145609  ...  34.530019      0.042015    0.000066\n",
      "1  6037570602   33.856156  -118.172933  ...  36.011537      0.041662    0.000102\n",
      "2  6037570601   33.856940  -118.180985  ...  34.019222      0.036422    0.000076\n",
      "3  6037570303   33.859648  -118.192581  ...  41.591565      0.035883    0.000060\n",
      "4  6037572600   33.807116  -118.214085  ...  38.810481      0.048846    0.000124\n",
      "\n",
      "[5 rows x 46 columns]\n"
     ]
    }
   ],
   "source": [
    "print(df_merged.head())"
   ]
  },
  {
   "cell_type": "code",
   "execution_count": 20,
   "metadata": {},
   "outputs": [],
   "source": [
    "df_merged.to_csv('POLB_SQL\\POLB_Merged.csv', index=False)\n"
   ]
  },
  {
   "cell_type": "code",
   "execution_count": null,
   "metadata": {},
   "outputs": [],
   "source": []
  }
 ],
 "metadata": {
  "kernelspec": {
   "display_name": "ArcGISPro",
   "language": "Python",
   "name": "python3"
  },
  "language_info": {
   "file_extension": ".py",
   "name": "python",
   "version": "3"
  }
 },
 "nbformat": 4,
 "nbformat_minor": 2
}
