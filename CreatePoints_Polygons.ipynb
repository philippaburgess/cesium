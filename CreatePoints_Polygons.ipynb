{
 "cells": [
  {
   "cell_type": "markdown",
   "metadata": {},
   "source": [
    "Create Points and Polygons from Merged File "
   ]
  },
  {
   "cell_type": "code",
   "execution_count": 7,
   "metadata": {},
   "outputs": [
    {
     "name": "stdout",
     "output_type": "stream",
     "text": [
      "Point feature class Health_Impact_Points_POLB created with 10146 points.\n"
     ]
    }
   ],
   "source": [
    "import pandas as pd\n",
    "import arcpy\n",
    "\n",
    "# Load the data\n",
    "csv_file = r'C:\\Users\\Philippa Burgess\\Downloads\\POLB_SQL\\POLB_Merged.csv'\n",
    "df = pd.read_csv(csv_file)\n",
    "\n",
    "arcpy.env.workspace = r'C:\\Users\\Philippa Burgess\\Documents\\ArcGIS\\Projects\\586_POLB\\586_POLB.gdb'\n",
    "\n",
    "# Define the path for the new feature class\n",
    "out_path = arcpy.env.workspace\n",
    "out_name = \"Health_Impact_Points_POLB\"\n",
    "geometry_type = \"POINT\"\n",
    "spatial_reference = arcpy.SpatialReference(4326)  # WGS 84 coordinate system\n",
    "\n",
    "# Create a new feature class\n",
    "point_feature_class = arcpy.CreateFeatureclass_management(\n",
    "    out_path, out_name, geometry_type, spatial_reference=spatial_reference\n",
    ")\n",
    "\n",
    "# Add fields to the feature class for each variable \n",
    "# Example for 'Asthma' and 'Pollution Burden'\n",
    "arcpy.AddField_management(point_feature_class, 'Asthma', 'FLOAT')\n",
    "arcpy.AddField_management(point_feature_class, 'Asthma Pctl', 'FLOAT')\n",
    "arcpy.AddField_management(point_feature_class, 'Pollution Burden', 'FLOAT')\n",
    "arcpy.AddField_management(point_feature_class, 'Education', 'FLOAT')\n",
    "arcpy.AddField_management(point_feature_class, 'Non White Only Percentage', 'FLOAT')\n",
    "arcpy.AddField_management(point_feature_class, 'LOWINCOME', 'FLOAT')\n",
    "arcpy.AddField_management(point_feature_class, 'LIFEEXPPCT', 'FLOAT')\n",
    "arcpy.AddField_management(point_feature_class, 'D5_DSLPM', 'FLOAT')\n",
    "arcpy.AddField_management(point_feature_class, 'D5_RESP', 'FLOAT')\n",
    "arcpy.AddField_management(point_feature_class, 'D5_CANCER', 'FLOAT')\n",
    "arcpy.AddField_management(point_feature_class, 'D5_PM25', 'FLOAT')\n",
    "arcpy.AddField_management(point_feature_class, 'D2_DSLPM', 'FLOAT')\n",
    "arcpy.AddField_management(point_feature_class, 'D2_RESP', 'FLOAT')\n",
    "arcpy.AddField_management(point_feature_class, 'D2_CANCER', 'FLOAT')\n",
    "arcpy.AddField_management(point_feature_class, 'D2_PM25', 'FLOAT')\n",
    "\n",
    "# Create a new feature class\n",
    "point_feature_class = arcpy.CreateFeatureclass_management(\n",
    "    out_path, out_name, geometry_type, spatial_reference=spatial_reference\n",
    ")\n",
    "\n",
    "# Add fields to the feature class for each variable\n",
    "fields_to_add = ['Asthma', 'Asthma Pctl', 'Pollution Burden', 'Education', \n",
    "                 'Non White Only Percentage', 'LOWINCOME', 'LIFEEXPPCT', \n",
    "                 'D5_DSLPM', 'D5_RESP', 'D5_CANCER', 'D5_PM25', 'D2_DSLPM', \n",
    "                 'D2_RESP', 'D2_CANCER', 'D2_PM25']\n",
    "\n",
    "for field in fields_to_add:\n",
    "    arcpy.AddField_management(point_feature_class, field.replace(' ', '_'), 'FLOAT')\n",
    "\n",
    "# Adjust the field list for the insert cursor\n",
    "fields = ['SHAPE@XY'] + [field.replace(' ', '_') for field in fields_to_add]\n",
    "\n",
    "# Insert data into the feature class\n",
    "with arcpy.da.InsertCursor(point_feature_class, fields) as cursor:\n",
    "    for index, row in df.iterrows():\n",
    "        # Replace spaces with underscores to match the field names\n",
    "        row_values = [row[field] for field in fields_to_add]\n",
    "        values = [(row['Longitude'], row['Latitude'])] + row_values\n",
    "        cursor.insertRow(values)\n",
    "\n",
    "print(f\"Point feature class {out_name} created with {len(df)} points.\")"
   ]
  },
  {
   "cell_type": "code",
   "execution_count": null,
   "metadata": {},
   "outputs": [],
   "source": []
  }
 ],
 "metadata": {
  "kernelspec": {
   "display_name": "ArcGISPro",
   "language": "Python",
   "name": "python3"
  },
  "language_info": {
   "file_extension": ".py",
   "name": "python",
   "version": "3"
  }
 },
 "nbformat": 4,
 "nbformat_minor": 2
}
